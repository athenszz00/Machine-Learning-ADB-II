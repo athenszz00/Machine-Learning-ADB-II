{
 "cells": [
  {
   "cell_type": "code",
   "execution_count": 1,
   "id": "f8b85976-1223-4c58-8c65-a462b5387a6d",
   "metadata": {},
   "outputs": [
    {
     "name": "stdout",
     "output_type": "stream",
     "text": [
      "Requirement already satisfied: pymysql in d:\\anaconda\\envs\\ganniartha\\lib\\site-packages (1.1.1)\n"
     ]
    }
   ],
   "source": [
    "!pip install pymysql"
   ]
  },
  {
   "cell_type": "code",
   "execution_count": 2,
   "id": "dba4e6fc-a014-43eb-a94f-58ca03754c0f",
   "metadata": {},
   "outputs": [
    {
     "name": "stdout",
     "output_type": "stream",
     "text": [
      "('category',)\n",
      "('custcustdemographics',)\n",
      "('customer',)\n",
      "('customerdemographics',)\n",
      "('employee',)\n",
      "('employeeterritory',)\n",
      "('orderdetail',)\n",
      "('product',)\n",
      "('region',)\n",
      "('salesorder',)\n",
      "('shipper',)\n",
      "('supplier',)\n",
      "('territory',)\n"
     ]
    }
   ],
   "source": [
    "import pymysql\n",
    "\n",
    "conn = pymysql.connect(\n",
    "    host='localhost',\n",
    "    user='root',\n",
    "    database='northwind'\n",
    ")\n",
    "cursor = conn.cursor()\n",
    "cursor.execute(\"SHOW TABLES;\")\n",
    "for table in cursor.fetchall():\n",
    "    print(table)\n",
    "cursor.close()\n",
    "conn.close()"
   ]
  },
  {
   "cell_type": "code",
   "execution_count": 3,
   "id": "6709cac0-4d32-40bc-9e5b-3e7c59ddc432",
   "metadata": {},
   "outputs": [
    {
     "name": "stdout",
     "output_type": "stream",
     "text": [
      "Requirement already satisfied: openpyxl in d:\\anaconda\\envs\\ganniartha\\lib\\site-packages (3.1.5)\n",
      "Requirement already satisfied: et-xmlfile in d:\\anaconda\\envs\\ganniartha\\lib\\site-packages (from openpyxl) (2.0.0)\n",
      "Requirement already satisfied: sqlalchemy in d:\\anaconda\\envs\\ganniartha\\lib\\site-packages (2.0.40)\n",
      "Requirement already satisfied: greenlet>=1 in d:\\anaconda\\envs\\ganniartha\\lib\\site-packages (from sqlalchemy) (3.2.1)\n",
      "Requirement already satisfied: typing-extensions>=4.6.0 in d:\\anaconda\\envs\\ganniartha\\lib\\site-packages (from sqlalchemy) (4.12.2)\n",
      "   orderId  custId  employeeId  orderDate requiredDate shippedDate  shipperid  \\\n",
      "0    10248      85           5 2006-07-04   2006-08-01  2006-07-16          3   \n",
      "1    10249      79           6 2006-07-05   2006-08-16  2006-07-10          1   \n",
      "2    10250      34           4 2006-07-08   2006-08-05  2006-07-12          2   \n",
      "3    10251      84           3 2006-07-08   2006-08-05  2006-07-15          1   \n",
      "4    10252      76           4 2006-07-09   2006-08-06  2006-07-11          2   \n",
      "\n",
      "   freight           shipName            shipAddress        shipCity  \\\n",
      "0    32.38       Ship to 85-B   6789 rue de l'Abbaye           Reims   \n",
      "1    11.61       Ship to 79-C        Luisenstr. 9012         Münster   \n",
      "2    65.83  Destination SCQXA      Rua do Paço, 7890  Rio de Janeiro   \n",
      "3    41.34       Ship to 84-A  3456, rue du Commerce            Lyon   \n",
      "4    51.30       Ship to 76-B  Boulevard Tirou, 9012       Charleroi   \n",
      "\n",
      "  shipRegion shipPostalCode shipCountry  \n",
      "0       None          10345      France  \n",
      "1       None          10328     Germany  \n",
      "2         RJ          10195      Brazil  \n",
      "3       None          10342      France  \n",
      "4       None          10318     Belgium  \n"
     ]
    }
   ],
   "source": [
    "!pip install openpyxl\n",
    "!pip install sqlalchemy\n",
    "import pandas as pd\n",
    "from sqlalchemy import create_engine\n",
    "\n",
    "engine = create_engine('mysql+pymysql://root:@localhost/northwind')\n",
    "\n",
    "df_orders = pd.read_sql('SELECT * FROM salesorder', con=engine)\n",
    "\n",
    "print(df_orders.head())"
   ]
  },
  {
   "cell_type": "code",
   "execution_count": 4,
   "id": "73be1b74-f3e5-4596-a5a5-579920342c27",
   "metadata": {},
   "outputs": [],
   "source": [
    "df_orders.to_excel('SalesOrder.xlsx', index=False)"
   ]
  },
  {
   "cell_type": "code",
   "execution_count": 5,
   "id": "f192aa07-0d18-4c7c-9faf-8e77987c5431",
   "metadata": {},
   "outputs": [
    {
     "name": "stdout",
     "output_type": "stream",
     "text": [
      "Jumlah Customer Yang Order: 89\n"
     ]
    }
   ],
   "source": [
    "df = pd.read_excel('SalesOrder.xlsx')\n",
    "\n",
    "df['orderDate'] = pd.to_datetime(df['orderDate'])\n",
    "\n",
    "print(\"Jumlah Customer Yang Order:\", df['custId'].nunique())"
   ]
  },
  {
   "cell_type": "code",
   "execution_count": 6,
   "id": "56f6bb3a-5eeb-4207-8002-eab219fa94ce",
   "metadata": {},
   "outputs": [
    {
     "name": "stdout",
     "output_type": "stream",
     "text": [
      "Siapakah Customer Yang Paling Sering Order: 71 dengan 31 order\n"
     ]
    }
   ],
   "source": [
    "df = pd.read_excel('SalesOrder.xlsx')\n",
    "\n",
    "df['orderDate'] = pd.to_datetime(df['orderDate'])\n",
    "\n",
    "print(\"Siapakah Customer Yang Paling Sering Order:\", df['custId'].value_counts().idxmax(), \"dengan\", df['custId'].value_counts().max(), \"order\")"
   ]
  },
  {
   "cell_type": "code",
   "execution_count": 7,
   "id": "830b63ca-3f57-43c4-9cbf-2fc465080274",
   "metadata": {},
   "outputs": [
    {
     "name": "stdout",
     "output_type": "stream",
     "text": [
      "\n",
      "Total Order Tiap Customer:\n",
      " custId\n",
      "71    31\n",
      "20    30\n",
      "63    28\n",
      "37    19\n",
      "24    19\n",
      "      ..\n",
      "53     3\n",
      "26     3\n",
      "33     2\n",
      "43     2\n",
      "13     1\n",
      "Name: count, Length: 89, dtype: int64\n"
     ]
    }
   ],
   "source": [
    "df = pd.read_excel('SalesOrder.xlsx')\n",
    "\n",
    "df['orderDate'] = pd.to_datetime(df['orderDate'])\n",
    "\n",
    "print(\"\\nTotal Order Tiap Customer:\\n\", df['custId'].value_counts())"
   ]
  },
  {
   "cell_type": "code",
   "execution_count": 8,
   "id": "ac7df964-fa40-4cca-a7b4-d06a0ef8b22d",
   "metadata": {},
   "outputs": [
    {
     "name": "stdout",
     "output_type": "stream",
     "text": [
      "\n",
      "Berapakah Jumlah Order Tiap Bulan:\n",
      " orderDate\n",
      "2006-07    22\n",
      "2006-08    25\n",
      "2006-09    23\n",
      "2006-10    26\n",
      "2006-11    25\n",
      "2006-12    31\n",
      "2007-01    33\n",
      "2007-02    29\n",
      "2007-03    30\n",
      "2007-04    31\n",
      "2007-05    32\n",
      "2007-06    30\n",
      "2007-07    33\n",
      "2007-08    33\n",
      "2007-09    37\n",
      "2007-10    38\n",
      "2007-11    34\n",
      "2007-12    48\n",
      "2008-01    55\n",
      "2008-02    54\n",
      "2008-03    73\n",
      "2008-04    74\n",
      "2008-05    14\n",
      "Freq: M, Name: count, dtype: int64\n"
     ]
    }
   ],
   "source": [
    "print(\"\\nBerapakah Jumlah Order Tiap Bulan:\\n\", df['orderDate'].dt.to_period('M').value_counts().sort_index())"
   ]
  },
  {
   "cell_type": "code",
   "execution_count": 9,
   "id": "3f872f33-34ef-41c3-b75f-50776de2de22",
   "metadata": {},
   "outputs": [
    {
     "name": "stdout",
     "output_type": "stream",
     "text": [
      "\n",
      "Bulan Berapakah yang memiliki Order Tertinggi: 2008-04 dengan 74 order\n"
     ]
    }
   ],
   "source": [
    "print(\"\\nBulan Berapakah yang memiliki Order Tertinggi:\", df['orderDate'].dt.to_period('M').value_counts().idxmax(), \"dengan\", df['orderDate'].dt.to_period('M').value_counts().max(), \"order\")"
   ]
  }
 ],
 "metadata": {
  "kernelspec": {
   "display_name": "Python 3 (ipykernel)",
   "language": "python",
   "name": "python3"
  },
  "language_info": {
   "codemirror_mode": {
    "name": "ipython",
    "version": 3
   },
   "file_extension": ".py",
   "mimetype": "text/x-python",
   "name": "python",
   "nbconvert_exporter": "python",
   "pygments_lexer": "ipython3",
   "version": "3.10.16"
  }
 },
 "nbformat": 4,
 "nbformat_minor": 5
}
